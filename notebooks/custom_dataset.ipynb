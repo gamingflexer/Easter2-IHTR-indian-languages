{
 "cells": [
  {
   "attachments": {},
   "cell_type": "markdown",
   "id": "912bdcf9",
   "metadata": {},
   "source": [
    "# Concatnate text files containing the text files with images path"
   ]
  },
  {
   "cell_type": "code",
   "execution_count": 17,
   "id": "f67e338e-bb2b-41f3-a8b7-0e1c930cf7f4",
   "metadata": {
    "tags": []
   },
   "outputs": [],
   "source": [
    "# Define base paths\n",
    "base_path_train = './trainset/devanagari/images/'\n",
    "base_path_test = './testset_big/devanagari/images/'\n",
    "base_path_val = './validationset_big/devanagari/images/'\n",
    "\n",
    "# Define file paths\n",
    "path_train = \"./trainset/devanagari/train.txt\"\n",
    "path_test = \"./testset_big/devanagari/test.txt\"\n",
    "path_val = \"./validationset_big/devanagari/val.txt\"\n",
    "\n",
    "# Define function to concatenate files\n",
    "def concatenate_files(path, base_path,test = False):\n",
    "    with open(path, 'r') as f:\n",
    "        lines = f.readlines()\n",
    "    concatenated_lines = []\n",
    "    for line in lines:\n",
    "        if test:\n",
    "            img_path = base_path + line\n",
    "            concatenated_lines.append(img_path)\n",
    "        else:\n",
    "            img_path, text = line.split(' ', 1)\n",
    "            img_path = base_path + img_path\n",
    "            concatenated_lines.append(f'{img_path} {text}')\n",
    "    return concatenated_lines\n",
    "\n",
    "# Concatenate files\n",
    "train_lines = concatenate_files(path_train, base_path_train)\n",
    "#test_lines = concatenate_files(path_test, base_path_test,test = True)\n",
    "val_lines = concatenate_files(path_val, base_path_val)\n",
    "\n",
    "# Save concatenated file\n",
    "with open('concatenated.txt', 'w') as f:\n",
    "    f.writelines(train_lines)\n",
    "    #f.writelines(test_lines) # remove the test set and run on test set \n",
    "    f.writelines(val_lines)\n"
   ]
  },
  {
   "attachments": {},
   "cell_type": "markdown",
   "id": "224aa1db",
   "metadata": {},
   "source": [
    "# Get the average width and height "
   ]
  },
  {
   "cell_type": "code",
   "execution_count": 9,
   "id": "eca7cfeb-f407-4227-b03c-fed72dde3bd1",
   "metadata": {},
   "outputs": [],
   "source": [
    "image_paths = []\n",
    "with open(\"/home/pageocr/easter2/Easter2/notebooks/concatenated.txt\", 'r') as f:\n",
    "    lines = f.readlines()\n",
    "    for line in lines:\n",
    "        path = line.split(\" \")[0]\n",
    "        image_paths.append(path)\n",
    "        "
   ]
  },
  {
   "cell_type": "code",
   "execution_count": 14,
   "id": "f8893f6a-b4ad-495b-a94f-8ee3e45bbec5",
   "metadata": {
    "tags": []
   },
   "outputs": [],
   "source": [
    "from PIL import Image"
   ]
  },
  {
   "cell_type": "code",
   "execution_count": 15,
   "id": "a8c9c121-8c16-4bb9-a2bd-db32029ddd30",
   "metadata": {
    "tags": []
   },
   "outputs": [
    {
     "name": "stdout",
     "output_type": "stream",
     "text": [
      "Average width: 767\n",
      "Average height: 292\n"
     ]
    }
   ],
   "source": [
    "total_width = 0\n",
    "total_height = 0\n",
    "\n",
    "# loop through each image and add up its dimensions\n",
    "for path in image_paths:\n",
    "    with Image.open(path) as img:\n",
    "        width, height = img.size\n",
    "        total_width += width\n",
    "        total_height += height\n",
    "\n",
    "# calculate the average width and height\n",
    "num_images = len(image_paths)\n",
    "avg_width = total_width // num_images\n",
    "avg_height = total_height // num_images\n",
    "\n",
    "print(\"Average width:\", avg_width)\n",
    "print(\"Average height:\", avg_height)"
   ]
  },
  {
   "attachments": {},
   "cell_type": "markdown",
   "id": "3633b6a4",
   "metadata": {},
   "source": [
    "# Test"
   ]
  },
  {
   "cell_type": "code",
   "execution_count": null,
   "id": "eec66d26-d3d4-49ad-8125-830a595f6b07",
   "metadata": {},
   "outputs": [],
   "source": [
    "base_path_train = './trainset/devanagari/images/'\n",
    "base_path_test = './testset_big/devanagari/images/'\n",
    "base_path_val = './validationset_big/devanagari/images/'\n",
    "\n",
    "\n",
    "path_train = \"./trainset/devanagari/train.txt\"\n",
    "path_test = \"./testset_big/devanagari/test.txt\"\n",
    "path_val = \"./validationset_big/devanagari/val.txt\"\n",
    "\n",
    "\n",
    "import os\n",
    "\n",
    "# with open(path_val) as f:\n",
    "#     data = f.readlines()\n",
    "#     print(data)\n",
    "#     for d in data[:3]:\n",
    "#         full_p = os.path.join(base_path,d)\n",
    "#         print(full_p[1])\n",
    "\n",
    "def concatenate_files(file1, file2, file3, output_file):\n",
    "    # Read the contents of the three input files\n",
    "    with open(file1, 'r') as f1, open(file2, 'r') as f2, open(file3, 'r') as f3:\n",
    "        content1 = f1.read()\n",
    "        content2 = f2.read()\n",
    "        content3 = f3.read()\n",
    "    \n",
    "    # Concatenate the contents of the three files\n",
    "    concatenated = content1 + content2 + content3\n",
    "    \n",
    "    # Write the concatenated content to the output file\n",
    "    with open(output_file, 'w') as out_file:\n",
    "        out_file.write(concatenated)\n",
    "        \n",
    "concatenate_files(path_train,path_test,path_val,\"./final.txt\")"
   ]
  }
 ],
 "metadata": {
  "kernelspec": {
   "display_name": "Python 3 (ipykernel)",
   "language": "python",
   "name": "python3"
  },
  "language_info": {
   "codemirror_mode": {
    "name": "ipython",
    "version": 3
   },
   "file_extension": ".py",
   "mimetype": "text/x-python",
   "name": "python",
   "nbconvert_exporter": "python",
   "pygments_lexer": "ipython3",
   "version": "3.8.16"
  }
 },
 "nbformat": 4,
 "nbformat_minor": 5
}
